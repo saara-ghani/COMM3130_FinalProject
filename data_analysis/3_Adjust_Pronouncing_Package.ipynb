{
 "cells": [
  {
   "cell_type": "markdown",
   "id": "c28df1c5-592b-4491-8032-dc734bafa706",
   "metadata": {},
   "source": [
    "# Adjust the pronouncing package...\n",
    "### ... to include all of Dr. Seuss made up words as well\n",
    "Sneetches does not occur in the pronouncing package dictionary! We need to update the function to include all of the made-up words in the Dr Seuss corpus.\n",
    "\n",
    "#### Note: We were not able to actually updated the package, so this code is not used. But we attempted to adjust for the missing Dr Seuss words!"
   ]
  },
  {
   "cell_type": "code",
   "execution_count": 1,
   "id": "19e663af-2320-4224-945c-5fd8a5892051",
   "metadata": {},
   "outputs": [],
   "source": [
    "from IPython.utils.io import capture_output\n",
    "import pronouncing\n",
    "\n",
    "with capture_output():\n",
    "    %run 1_Set_Up.ipynb\n",
    "    %run 2_Corpus_Descriptives.ipynb\n",
    "    %run functions.ipynb"
   ]
  },
  {
   "cell_type": "code",
   "execution_count": 2,
   "id": "050e1fa1-6acf-49a6-9433-61e28a50e2b2",
   "metadata": {},
   "outputs": [
    {
     "data": {
      "text/plain": [
       "[\"beach's\", 'impeaches', 'peaches', 'reaches', 'speeches', 'teaches']"
      ]
     },
     "execution_count": 2,
     "metadata": {},
     "output_type": "execute_result"
    }
   ],
   "source": [
    "pronouncing.rhymes(\"beaches\") # example of output by the pronouncing package"
   ]
  },
  {
   "cell_type": "code",
   "execution_count": 3,
   "id": "1caa1972-0458-4e79-9208-a8136df0ba31",
   "metadata": {},
   "outputs": [
    {
     "data": {
      "text/plain": [
       "[]"
      ]
     },
     "execution_count": 3,
     "metadata": {},
     "output_type": "execute_result"
    }
   ],
   "source": [
    "pronouncing.rhymes(\"sneetches\")"
   ]
  },
  {
   "cell_type": "markdown",
   "id": "befee3cf-3f22-4e28-9297-0e296cf75f1f",
   "metadata": {},
   "source": [
    "See... Many of Dr. Seuss's made up words are not in the CMU dictionary."
   ]
  },
  {
   "cell_type": "code",
   "execution_count": 4,
   "id": "ecc17c72-e4ae-4f3c-8733-49bd55628e65",
   "metadata": {},
   "outputs": [],
   "source": [
    "# # create a counter of all Dr. Seuss tokens\n",
    "# s_toks_counter = Counter()\n",
    "\n",
    "# for story in seuss_corpus_tokens:\n",
    "#     s_toks_counter.update(story)\n",
    "\n",
    "# print(s_toks_counter.most_common(10))"
   ]
  },
  {
   "cell_type": "code",
   "execution_count": 5,
   "id": "d32c134a-a4f4-4f9f-9575-6a3d6e56971c",
   "metadata": {},
   "outputs": [],
   "source": [
    "# # Function to check if a word is in the pronouncing dictionary\n",
    "# def is_in_pronouncing(word):\n",
    "#     return len(pronouncing.phones_for_word(word)) > 0\n",
    "\n",
    "# # Find words not in the pronouncing dictionary\n",
    "# not_in_pronouncing = [word for word in s_toks_counter if not is_in_pronouncing(word)]\n",
    "\n",
    "# # Output the words not in the pronouncing dictionary\n",
    "# print(not_in_pronouncing[1:10])\n",
    "# len(not_in_pronouncing) # there are 421 Dr. Seuss words not present in the pronouncing package"
   ]
  },
  {
   "cell_type": "code",
   "execution_count": 6,
   "id": "a81beccc-4b70-413d-8d9f-cd9025957331",
   "metadata": {},
   "outputs": [
    {
     "name": "stdout",
     "output_type": "stream",
     "text": [
      "[('the', 903), ('and', 718), ('a', 592), ('i', 504), ('you', 407), ('to', 347), ('in', 336), ('he', 307), ('of', 255), ('that', 235)]\n",
      "['10', 'voom', 'heres', 'isnt', 'sews', 'thats', 'bim', 'bims', 'freezy']\n",
      "Total words not in the pronouncing dictionary and appear more than once: 71\n"
     ]
    }
   ],
   "source": [
    "# create  list of Dr seuss tokens that occur more than once and are not in the CMu dictionary\n",
    "\n",
    "from collections import Counter\n",
    "import pronouncing\n",
    "\n",
    "# Create a counter of all Dr. Seuss tokens\n",
    "s_toks_counter = Counter()\n",
    "\n",
    "for story in seuss_corpus_tokens:\n",
    "    s_toks_counter.update(story)\n",
    "\n",
    "print(s_toks_counter.most_common(10))\n",
    "\n",
    "# Function to check if a word is in the pronouncing dictionary\n",
    "def is_in_pronouncing(word):\n",
    "    return len(pronouncing.phones_for_word(word)) > 0\n",
    "\n",
    "# Find words that are not in the pronouncing dictionary and appear more than once\n",
    "not_in_pronouncing = [word for word, count in s_toks_counter.items() if count > 2 and not is_in_pronouncing(word)]\n",
    "\n",
    "# Output the words not in the pronouncing dictionary and appear more than once\n",
    "print(not_in_pronouncing[1:10])\n",
    "print(f\"Total words not in the pronouncing dictionary and appear more than once: {len(not_in_pronouncing)}\")\n"
   ]
  },
  {
   "cell_type": "markdown",
   "id": "5bb2d8cd-f983-462e-bf3e-f3400e7d9d38",
   "metadata": {},
   "source": [
    "Note: we are trying to add the Dr Seuss words to the pronouncing package, but it will not allow us to do so. We are trying to find a way to include the rhymes of unique Dr Seuss words."
   ]
  },
  {
   "cell_type": "code",
   "execution_count": 7,
   "id": "4caf5099-b3bf-42a2-939f-d56066fee818",
   "metadata": {},
   "outputs": [
    {
     "name": "stdout",
     "output_type": "stream",
     "text": [
      "71\n",
      "['dont', '10', 'voom', 'heres', 'isnt', 'sews', 'thats', 'bim', 'bims', 'freezy', 'tweetle', 'samiam', 'didnt', 'wouldnt', 'youd', 'wasnt', 'theres', 'ive', 'whos', 'humpf', 'youre', 'hes', 'youve', 'whoville', 'blackbottomed', 'youll', 'weve', 'beezlenut', 'theyll', 'theyve', 'grinchy', 'theyre', 'theyd', 'couldnt', 'upsidedown', 'hed', 'eek', 'cockadoodledoo', 'blurp', 'splatt', 'wump', 'zans', 'gox', 'yooks', 'zooks', 'vanitch', 'triplesling', 'jigger', 'yookeroo', 'bigboy', 'boomeroo', 'gricklegrass', 'lorax', 'onceler', 'truffula', 'barbaloots', 'thneed', 'thneeds', 'biggered', 'biggering', 'starbelly', 'sneetches', 'plainbelly', 'thars', 'sneetch', 'mcmonkey', 'fixitup', 'moosemoss', 'thidwick', 'thidwicks', 'yertle']\n"
     ]
    }
   ],
   "source": [
    "print(len(not_in_pronouncing))\n",
    "print(not_in_pronouncing) # these are the words not in the pronouncing dictionary."
   ]
  },
  {
   "cell_type": "markdown",
   "id": "b1bb79de-4e1d-4006-b4a2-b6127931b594",
   "metadata": {},
   "source": [
    "### Below is code that simulates the pronouncing function"
   ]
  },
  {
   "cell_type": "code",
   "execution_count": 8,
   "id": "20ddbab4-27de-4460-9533-1694cf285bd6",
   "metadata": {},
   "outputs": [
    {
     "data": {
      "text/plain": [
       "76"
      ]
     },
     "execution_count": 8,
     "metadata": {},
     "output_type": "execute_result"
    }
   ],
   "source": [
    "len(pronouncing.rhymes(\"cat\"))"
   ]
  },
  {
   "cell_type": "code",
   "execution_count": 9,
   "id": "2fc04332-6006-4d6f-813d-891178583908",
   "metadata": {},
   "outputs": [
    {
     "name": "stdout",
     "output_type": "stream",
     "text": [
      "71\n"
     ]
    }
   ],
   "source": [
    "# Add the Dr Seuss words to the pronouncing dictionary\n",
    "# we used Chat GPT to get the phonetics for each word\n",
    "cmu_dict_additions = {\n",
    "    'dont': [['D', 'AH0', 'N', 'T']],\n",
    "    '10': [['T', 'EH1', 'N']],\n",
    "    'voom': [['V', 'UW1', 'M']],\n",
    "    'heres': [['HH', 'IH1', 'R', 'Z']],\n",
    "    'isnt': [['IH1', 'Z', 'AH0', 'N', 'T']],\n",
    "    'sews': [['S', 'OW1', 'Z']],\n",
    "    'thats': [['DH', 'AE1', 'T', 'S']],\n",
    "    'bim': [['B', 'IH1', 'M']],\n",
    "    'bims': [['B', 'IH1', 'M', 'Z']],\n",
    "    'freezy': [['F', 'R', 'IY1', 'Z', 'IY0']],\n",
    "    'tweetle': [['T', 'W', 'IY1', 'T', 'L']],\n",
    "    'samiam': [['S', 'AE1', 'M', 'IY0', 'AE1', 'M']],\n",
    "    'didnt': [['D', 'IH1', 'D', 'N', 'T']],\n",
    "    'wouldnt': [['W', 'UH1', 'D', 'N', 'T']],\n",
    "    'youd': [['Y', 'UW1', 'D']],\n",
    "    'wasnt': [['W', 'AA1', 'Z', 'N', 'T']],\n",
    "    'theres': [['DH', 'EH1', 'R', 'Z']],\n",
    "    'ive': [['AY1', 'V']],\n",
    "    'whos': [['HH', 'UW1', 'Z']],\n",
    "    'humpf': [['HH', 'AH1', 'M', 'P', 'F']],\n",
    "    'youre': [['Y', 'AO1', 'R']],\n",
    "    'hes': [['HH', 'IY1', 'Z']],\n",
    "    'youve': [['Y', 'UW1', 'V']],\n",
    "    'whoville': [['HH', 'UW1', 'V', 'IH1', 'L']],\n",
    "    'blackbottomed': [['B', 'L', 'AE1', 'K', 'B', 'AA1', 'T', 'AH0', 'M', 'D']],\n",
    "    'youll': [['Y', 'UH1', 'L']],\n",
    "    'weve': [['W', 'IY1', 'V']],\n",
    "    'beezlenut': [['B', 'IY1', 'Z', 'AH0', 'N', 'AH0', 'T']],\n",
    "    'theyll': [['DH', 'EH1', 'L']],\n",
    "    'theyve': [['DH', 'EY1', 'V']],\n",
    "    'grinchy': [['G', 'R', 'IH1', 'N', 'CH', 'IY0']],\n",
    "    'theyre': [['DH', 'EH1', 'R']],\n",
    "    'theyd': [['DH', 'EY1', 'D']],\n",
    "    'couldnt': [['K', 'UH1', 'D', 'N', 'T']],\n",
    "    'upsidedown': [['AH0', 'P', 'S', 'AY1', 'D', 'AW1', 'N']],\n",
    "    'hed': [['HH', 'EH1', 'D']],\n",
    "    'eek': [['IY1', 'K']],\n",
    "    'cockadoodledoo': [['K', 'AA1', 'K', 'AH0', 'D', 'UW1', 'D', 'AH0', 'D', 'UW1']],\n",
    "    'blurp': [['B', 'L', 'UR1', 'P']],\n",
    "    'splatt': [['S', 'P', 'L', 'AE1', 'T']],\n",
    "    'wump': [['W', 'AH1', 'M', 'P']],\n",
    "    'zans': [['Z', 'AE1', 'N', 'Z']],\n",
    "    'gox': [['G', 'AO1', 'K', 'S']],\n",
    "    'yooks': [['Y', 'UW1', 'K', 'S']],\n",
    "    'zooks': [['Z', 'UW1', 'K', 'S']],\n",
    "    'vanitch': [['V', 'AE1', 'N', 'IH0', 'CH']],\n",
    "    'triplesling': [['T', 'R', 'IH1', 'P', 'AH0', 'S', 'L', 'IH1', 'NG']],\n",
    "    'jigger': [['JH', 'IH1', 'G', 'ER0']],\n",
    "    'yookeroo': [['Y', 'UW1', 'K', 'ER0', 'UW1']],\n",
    "    'bigboy': [['B', 'IH1', 'G', 'B', 'OY1']],\n",
    "    'boomeroo': [['B', 'UW1', 'M', 'AH0', 'R', 'UW1']],\n",
    "    'gricklegrass': [['G', 'R', 'IH1', 'K', 'AH0', 'L', 'G', 'R', 'AE1', 'S']],\n",
    "    'lorax': [['L', 'AO1', 'R', 'AE0', 'K', 'S']],\n",
    "    'onceler': [['AH0', 'N', 'S', 'EH1', 'L', 'ER0']],\n",
    "    'truffula': [['T', 'R', 'UH1', 'F', 'AH0', 'L', 'AH0']],\n",
    "    'barbaloots': [['B', 'AA1', 'R', 'B', 'AH0', 'L', 'UW1', 'T', 'S']],\n",
    "    'thneed': [['TH', 'N', 'IY1', 'D']],\n",
    "    'thneeds': [['TH', 'N', 'IY1', 'D', 'Z']],\n",
    "    'biggered': [['B', 'IH1', 'G', 'ER0', 'EH1', 'D']],\n",
    "    'biggering': [['B', 'IH1', 'G', 'ER0', 'IH1', 'NG']],\n",
    "    'starbelly': [['S', 'T', 'AA1', 'R', 'B', 'EH0', 'L', 'IY0']],\n",
    "    'sneetches': [['S', 'N', 'IY1', 'CH', 'AH0', 'Z']],\n",
    "    'plainbelly': [['P', 'L', 'AE1', 'N', 'B', 'EH0', 'L', 'IY0']],\n",
    "    'thars': [['TH', 'AA1', 'R', 'Z']],\n",
    "    'sneetch': [['S', 'N', 'IY1', 'CH']],\n",
    "    'mcmonkey': [['M', 'K', 'M', 'AA1', 'NG', 'K', 'IY0']],\n",
    "    'fixitup': [['F', 'IH1', 'KS', 'IH0', 'P']],\n",
    "    'moosemoss': [['M', 'UW1', 'S', 'M', 'AA1', 'S']],\n",
    "    'thidwick': [['TH', 'IH1', 'D', 'W', 'IH0', 'K']],\n",
    "    'thidwicks': [['TH', 'IH1', 'D', 'W', 'IH0', 'K', 'S']],\n",
    "    'yertle': [['Y', 'ER1', 'T', 'L']],\n",
    "}\n",
    "\n",
    "print(len(cmu_dict_additions))"
   ]
  },
  {
   "cell_type": "code",
   "execution_count": 10,
   "id": "6f1be387-bff5-4975-8218-b22d7bc74bd2",
   "metadata": {},
   "outputs": [
    {
     "name": "stdout",
     "output_type": "stream",
     "text": [
      "['arnatt', 'at', 'at-bat', 'balyeat', 'bat', 'batt', 'batte', 'begat', 'bhatt', 'biernat', 'blatt', 'brat', 'bratt', 'catt', 'chat', 'combat', 'dat', 'delatte', 'deslatte', 'elat', 'fat', 'flat', 'flatt', 'gat', 'gatt', 'glatt', 'gnat', 'gujarat', 'hat', 'hatt', 'hnat', 'inmarsat', 'jagt', 'kat', 'katt', 'klatt', 'krat', 'kratt', 'labatt', 'landsat', 'lat', 'mat', 'matt', 'matte', 'mcnatt', 'nat', 'non-fat', 'nonfat', 'pat', 'patt', 'platt', 'platte', 'pratt', 'pratte', 'prevatt', 'prevatte', 'rat', 'rat-a-tat', 'ratte', 'sadat', 'sarratt', 'sat', 'scat', 'schadt', 'shatt', 'slaght', 'slat', 'spat', 'splat', 'splatt', 'spratt', 'stat', 'tat', 'that', 'tit-for-tat', 'tvsat', 'vat']\n"
     ]
    }
   ],
   "source": [
    "import cmudict\n",
    "  \n",
    "# Load CMU Pronouncing Dictionary\n",
    "d = cmudict.dict()\n",
    "\n",
    "# Add custom words\n",
    "d.update(cmu_dict_additions)\n",
    "\n",
    "# Create a function to mimic the pronouncing.rhymes() function\n",
    "def rhymes(word):\n",
    "    word = word.lower()\n",
    "    if word not in d:\n",
    "        return []\n",
    "\n",
    "    word_pronunciations = d[word]\n",
    "    rhyming_words = []\n",
    "\n",
    "    # Compare the end of the pronunciations\n",
    "    for w, pronunciations in d.items():\n",
    "        if w == word:\n",
    "            continue\n",
    "        for pronunciation in word_pronunciations:\n",
    "            for other_pronunciation in pronunciations:\n",
    "                # Compare the last two phonemes instead of just the last two\n",
    "                if pronunciation[-2:] == other_pronunciation[-2:]:\n",
    "                    rhyming_words.append(w)\n",
    "                    break\n",
    "\n",
    "    return sorted(set(rhyming_words))  # Return sorted unique rhyming words\n",
    "\n",
    "# Example usage\n",
    "print(rhymes(\"cat\"))\n"
   ]
  },
  {
   "cell_type": "code",
   "execution_count": 13,
   "id": "d329a2f9-d268-4be4-828e-2b18d9dd5da6",
   "metadata": {},
   "outputs": [
    {
     "name": "stdout",
     "output_type": "stream",
     "text": [
      "['abnormally', 'abruptly', 'absolutely', 'absurdly', 'abundantly', 'abysmally', 'academically', 'acceptably', 'accidentally']\n"
     ]
    }
   ],
   "source": [
    "print(rhymes(\"starbelly\")[1:10])"
   ]
  },
  {
   "cell_type": "code",
   "execution_count": 14,
   "id": "f929eac2-5aa1-4edf-b1c7-128caf36854a",
   "metadata": {},
   "outputs": [
    {
     "name": "stdout",
     "output_type": "stream",
     "text": [
      "[\"abiola's\", \"abouhalima's\", \"abraxa's\", 'abraxas', 'abridges', \"abuellah's\", 'accomplices', \"achoa's\", \"actava's\"]\n"
     ]
    }
   ],
   "source": [
    "print(rhymes(\"sneetches\")[1:10])"
   ]
  },
  {
   "cell_type": "markdown",
   "id": "0d1e8971-1df8-4a01-9458-bfe6296332a1",
   "metadata": {},
   "source": [
    "The rhymes are not great... when we adjust `if pronunciation[-2:] == other_pronunciation[-2:]:` to `if pronunciation[-3:] == other_pronunciation[-3:]:` to get more accurate rhymes, it messes up simple rhymes like \"cat\". \n",
    "\n",
    "See below:"
   ]
  },
  {
   "cell_type": "code",
   "execution_count": 17,
   "id": "14444eff-bd84-4e69-a48c-8d59e1922df2",
   "metadata": {},
   "outputs": [
    {
     "name": "stdout",
     "output_type": "stream",
     "text": [
      "['catt', 'kat', 'katt']\n",
      "['plainbelly']\n",
      "['beaches', 'impeaches', 'peaches', 'reaches', 'speeches', 'teaches']\n"
     ]
    }
   ],
   "source": [
    "import cmudict\n",
    "  \n",
    "# Load CMU Pronouncing Dictionary\n",
    "d = cmudict.dict()\n",
    "\n",
    "# Add custom words\n",
    "d.update(cmu_dict_additions)\n",
    "\n",
    "# Create a function to mimic the pronouncing.rhymes() function\n",
    "def rhymes(word):\n",
    "    word = word.lower()\n",
    "    if word not in d:\n",
    "        return []\n",
    "\n",
    "    word_pronunciations = d[word]\n",
    "    rhyming_words = []\n",
    "\n",
    "    # Compare the end of the pronunciations\n",
    "    for w, pronunciations in d.items():\n",
    "        if w == word:\n",
    "            continue\n",
    "        for pronunciation in word_pronunciations:\n",
    "            for other_pronunciation in pronunciations:\n",
    "                # Compare the last four phonemes instead of just the last two\n",
    "                if pronunciation[-4:] == other_pronunciation[-4:]:\n",
    "                    rhyming_words.append(w)\n",
    "                    break\n",
    "\n",
    "    return sorted(set(rhyming_words))  # Return sorted unique rhyming words\n",
    "\n",
    "# Example usage\n",
    "print(rhymes(\"cat\"))\n",
    "print(rhymes(\"starbelly\")[1:10])\n",
    "print(rhymes(\"sneetches\")[1:10])"
   ]
  },
  {
   "cell_type": "code",
   "execution_count": null,
   "id": "0aebf68a-8f14-4564-8f45-1711e720e6f2",
   "metadata": {},
   "outputs": [],
   "source": []
  }
 ],
 "metadata": {
  "citation-manager": {
   "items": {}
  },
  "kernelspec": {
   "display_name": "Python 3.8",
   "language": "python",
   "name": "python3"
  },
  "language_info": {
   "codemirror_mode": {
    "name": "ipython",
    "version": 3
   },
   "file_extension": ".py",
   "mimetype": "text/x-python",
   "name": "python",
   "nbconvert_exporter": "python",
   "pygments_lexer": "ipython3",
   "version": "3.8.8"
  }
 },
 "nbformat": 4,
 "nbformat_minor": 5
}

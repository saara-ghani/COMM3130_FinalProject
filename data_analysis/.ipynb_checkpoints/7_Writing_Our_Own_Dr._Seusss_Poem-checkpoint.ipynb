{
 "cells": [
  {
   "cell_type": "markdown",
   "id": "60ebd4ed-f7b9-44ac-bccd-2ad638a1dd63",
   "metadata": {},
   "source": [
    "# Making Our Own Dr. Seuss Poem\n",
    "We have used our knowledge about Dr. Seuss style to create our own poem in his style. **Scroll down to read our poems!**"
   ]
  },
  {
   "cell_type": "markdown",
   "id": "629a13a4-ee57-470f-91dd-1678896a423f",
   "metadata": {},
   "source": [
    "1. Using the localized rhyme scores, determine the most frequently used Dr Seuss rhymes\n",
    "2. Use that knowledge to write our own poem"
   ]
  },
  {
   "cell_type": "code",
   "execution_count": 1,
   "id": "cecf4c53-90f9-4a16-ace4-665516c64543",
   "metadata": {},
   "outputs": [],
   "source": [
    "# import packages\n",
    "import os\n",
    "from collections import Counter\n",
    "import pandas as pd\n",
    "import matplotlib.pyplot as plt\n",
    "import numpy as np\n",
    "\n",
    "from IPython.display import display, HTML # remove later?\n",
    "\n",
    "# import necessary previous notebooks\n",
    "from IPython.utils.io import capture_output\n",
    "\n",
    "with capture_output():\n",
    "    %run 5_Local_Analysis_Part1.ipynb\n",
    "    %run functions.ipynb"
   ]
  },
  {
   "cell_type": "code",
   "execution_count": 2,
   "id": "acd232cf-fec3-4cf1-9f78-c2425231f369",
   "metadata": {},
   "outputs": [],
   "source": [
    "combined_seuss_df = pd.concat(seuss_dataframes, ignore_index=True)"
   ]
  },
  {
   "cell_type": "code",
   "execution_count": 3,
   "id": "62a41ce6-6ac5-4660-91d5-793ae6498565",
   "metadata": {},
   "outputs": [],
   "source": [
    "# Select the tokens with the highest rhyme frequencies\n",
    "rhyme_words_df = combined_seuss_df[[\"Token\", \"Chunk\", \"Rhyme Frequency\"]]\n",
    "rhyme_words_df = rhyme_words_df.sort_values(by = \"Rhyme Frequency\", ascending = False)[1:9]"
   ]
  },
  {
   "cell_type": "code",
   "execution_count": 4,
   "id": "975276d0-e0a4-4aa9-9301-57e6d486d420",
   "metadata": {},
   "outputs": [
    {
     "name": "stdout",
     "output_type": "stream",
     "text": [
      "     Token                                              Chunk  Rhyme Frequency\n",
      "4011   cat  call, him, pat, pat, sat, pat, sat, on, hat, p...               14\n",
      "4013   sat  pat, pat, sat, pat, sat, on, hat, pat, cat, pa...               13\n",
      "4015   cat  sat, pat, sat, on, hat, pat, cat, pat, sat, on...               13\n",
      "3961    we  see, bee, we, see, a, bee, see, bee, three, no...               13\n",
      "4007   sat  bed, pat, pat, they, call, him, pat, pat, sat,...               12\n",
      "2396  goes  clothes, fox, sews, hose, on, slow, joe, crows...               12\n",
      "2395  hose  crows, clothes, fox, sews, hose, on, slow, joe...               12\n",
      "2394  nose  joe, crows, clothes, fox, sews, hose, on, slow...               12\n"
     ]
    }
   ],
   "source": [
    "print(rhyme_words_df)"
   ]
  },
  {
   "cell_type": "code",
   "execution_count": 5,
   "id": "48540e2f-e684-4c55-8947-80445af663ad",
   "metadata": {},
   "outputs": [
    {
     "name": "stdout",
     "output_type": "stream",
     "text": [
      "Chunk containing 'cat':\n",
      "['call', 'him', 'pat', 'pat', 'sat', 'pat', 'sat', 'on', 'hat', 'pat', 'pat', 'sat', 'on', 'cat', 'pat', 'bat', 'pat', 'sat', 'on', 'bat']\n",
      "\n",
      "Chunk containing 'sat':\n",
      "['pat', 'pat', 'sat', 'pat', 'sat', 'on', 'hat', 'pat', 'cat', 'pat', 'on', 'cat', 'pat', 'bat', 'pat', 'sat', 'on', 'bat', 'no', 'pat']\n",
      "\n",
      "Chunk containing 'cat':\n",
      "['sat', 'pat', 'sat', 'on', 'hat', 'pat', 'cat', 'pat', 'sat', 'on', 'pat', 'bat', 'pat', 'sat', 'on', 'bat', 'no', 'pat', 'no', 'dont']\n",
      "\n",
      "Chunk containing 'we':\n",
      "['see', 'bee', 'we', 'see', 'a', 'bee', 'see', 'bee', 'three', 'now', 'see', 'three', 'three', 'tree', 'three', 'fish', 'in', 'a', 'tree', 'fish']\n",
      "\n",
      "Chunk containing 'sat':\n",
      "['bed', 'pat', 'pat', 'they', 'call', 'him', 'pat', 'pat', 'sat', 'pat', 'on', 'hat', 'pat', 'cat', 'pat', 'sat', 'on', 'cat', 'pat', 'bat']\n",
      "\n",
      "Chunk containing 'goes':\n",
      "['clothes', 'fox', 'sews', 'hose', 'on', 'slow', 'joe', 'crows', 'nose', 'hose', 'rose', 'grows', 'nose', 'hose', 'goes', 'some', 'crows', 'rose', 'grows', 'some']\n",
      "\n",
      "Chunk containing 'hose':\n",
      "['crows', 'clothes', 'fox', 'sews', 'hose', 'on', 'slow', 'joe', 'crows', 'nose', 'goes', 'rose', 'grows', 'nose', 'hose', 'goes', 'some', 'crows', 'rose', 'grows']\n",
      "\n",
      "Chunk containing 'nose':\n",
      "['joe', 'crows', 'clothes', 'fox', 'sews', 'hose', 'on', 'slow', 'joe', 'crows', 'hose', 'goes', 'rose', 'grows', 'nose', 'hose', 'goes', 'some', 'crows', 'rose']\n",
      "\n"
     ]
    }
   ],
   "source": [
    "# Iterate through each row and print the words in the 'Chunk' column\n",
    "for index, row in rhyme_words_df.iterrows():\n",
    "    token = row[\"Token\"]  # Extract the token\n",
    "    chunk_words = row[\"Chunk\"].split(\", \")  # Split the chunk into individual words\n",
    "    print(f\"Chunk containing '{token}':\")\n",
    "    print(chunk_words)\n",
    "    print()  # Add a blank line for readability"
   ]
  },
  {
   "cell_type": "markdown",
   "id": "1e789879-8070-4edd-9fce-364c1d0bd752",
   "metadata": {},
   "source": [
    "## Poem by Saara\n",
    "\n",
    "To work on this project we sat \n",
    "\n",
    "sat \n",
    "\n",
    "sat \n",
    "\n",
    "sat.\n",
    "\n",
    "For the bootstrap we calculated sigma hat \n",
    "\n",
    "hat \n",
    "\n",
    "hat \n",
    "\n",
    "hat.\n",
    "\n",
    "But our team is so phat,\n",
    "\n",
    "We work with no spat.\n",
    "\n",
    "So please professor Mat –\n",
    "\n",
    "At least grade us on that!\n",
    "\n",
    "\n"
   ]
  },
  {
   "cell_type": "markdown",
   "id": "ae9fd078-0f1f-49ce-adb1-67212cc9f4e5",
   "metadata": {},
   "source": [
    "## Poem by Kaitlin\n",
    "\n",
    "QUICK! Said the fox.\n",
    "\n",
    "What rhymes with wick?\n",
    "\n",
    " \n",
    "\n",
    "Well, check out our docs with the box and then click.\n",
    "\n",
    "Click on the KWIC in our blocks and our bricks\n",
    "\n",
    " \n",
    "\n",
    "The answer, in there, might just right hide\n",
    "\n",
    "Look it and grab it, it can be applied\n",
    "\n",
    " \n",
    "\n",
    "Tick-tick-tick-tick-tick, but the clocks are quite slick\n",
    "\n",
    " \n",
    "\n",
    "Now we’re both fried and a little cross-eyed\n",
    "\n",
    "Time to let our findings go out worldwide!\n",
    "\n",
    " \n",
    "\n",
    "Thanks for the bits and the quips and the shticks,\n",
    "\n",
    "Minds full of wonder, it’s been quite a ride!"
   ]
  },
  {
   "cell_type": "code",
   "execution_count": null,
   "id": "ce552662-a58f-4e82-9dc8-7a000bc86fd4",
   "metadata": {},
   "outputs": [],
   "source": []
  }
 ],
 "metadata": {
  "citation-manager": {
   "items": {}
  },
  "kernelspec": {
   "display_name": "Python 3.8",
   "language": "python",
   "name": "python3"
  },
  "language_info": {
   "codemirror_mode": {
    "name": "ipython",
    "version": 3
   },
   "file_extension": ".py",
   "mimetype": "text/x-python",
   "name": "python",
   "nbconvert_exporter": "python",
   "pygments_lexer": "ipython3",
   "version": "3.8.8"
  }
 },
 "nbformat": 4,
 "nbformat_minor": 5
}

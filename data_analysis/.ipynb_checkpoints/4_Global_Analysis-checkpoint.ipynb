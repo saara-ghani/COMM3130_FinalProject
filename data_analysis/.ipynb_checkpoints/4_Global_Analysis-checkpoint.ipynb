{
 "cells": [
  {
   "cell_type": "markdown",
   "id": "e0291228-26e8-4bdb-abc2-b0452dc3af20",
   "metadata": {},
   "source": [
    "# Global Analysis\n",
    "Frequency + normalized rhymes for the entire text"
   ]
  },
  {
   "cell_type": "code",
   "execution_count": 8,
   "id": "85e74f75-6585-4e97-8212-27074302b6c1",
   "metadata": {},
   "outputs": [],
   "source": [
    "# Load in the prior files\n",
    "%%capture\n",
    "%run 1_Set_Up.ipynb\n",
    "%run functions.ipynb"
   ]
  },
  {
   "cell_type": "code",
   "execution_count": null,
   "id": "1ca142cd-b17e-45c0-a075-5253b0797881",
   "metadata": {},
   "outputs": [],
   "source": [
    "import pandas as pd\n",
    "from collections import Counter\n",
    "import pronouncing\n",
    "\n",
    "# import warnings\n",
    "# warnings.filterwarnings('ignore')\n",
    "\n",
    "seuss_df = pd.DataFrame(columns=['Title', 'String', 'Occurrences', 'Rhymes', 'Occurrences_Normalized', 'Rhymes_Normalized'])\n",
    "\n",
    "for x in range(1, len(seuss_files)):\n",
    "    strings = seuss_corpus_tokens[x]\n",
    "    string_counts = Counter(strings)  # count occurrences of each word\n",
    "    \n",
    "    # Step 3: Determine rhyming counts\n",
    "    unique_strings = list(string_counts.keys())  # create unique list of words\n",
    "    rhymes_dict = {}\n",
    "    \n",
    "    for word in unique_strings:\n",
    "        any_rhymes = set(pronouncing.rhymes(word))  # any words in the world that rhyme with the current word\n",
    "        test_rhymes = set(unique_strings).intersection(any_rhymes)  # Filter to words in the original list\n",
    "        rhymes_dict[word] = len(test_rhymes)  # Count of rhymes for the current word\n",
    "    \n",
    "    # Step 4: Create the DataFrame\n",
    "    data = {\n",
    "        \"Title\": [seuss_files[x]] * len(unique_strings),  # Repeat the title for each word\n",
    "        \"String\": unique_strings,\n",
    "        \"Occurrences\": [string_counts[word] for word in unique_strings],\n",
    "        \"Rhymes\": [rhymes_dict[word] for word in unique_strings],\n",
    "    }\n",
    "    \n",
    "    temp_df = pd.DataFrame(data)\n",
    "    temp_df = temp_df.sort_values(by=\"Rhymes\", ascending=False).reset_index(drop=True)\n",
    "    \n",
    "    temp_df['Occurrences_Normalized'] = temp_df['Occurrences'] / temp_df['Occurrences'].sum()\n",
    "    temp_df['Rhymes_Normalized'] = temp_df['Rhymes'] / temp_df['Rhymes'].sum()\n",
    "\n",
    "    # Append the data frame\n",
    "    seuss_df = pd.concat([seuss_df, temp_df], ignore_index=True)  # Use pd.concat to combine DataFrames\n"
   ]
  }
 ],
 "metadata": {
  "citation-manager": {
   "items": {}
  },
  "kernelspec": {
   "display_name": "Python 3.8",
   "language": "python",
   "name": "python3"
  },
  "language_info": {
   "codemirror_mode": {
    "name": "ipython",
    "version": 3
   },
   "file_extension": ".py",
   "mimetype": "text/x-python",
   "name": "python",
   "nbconvert_exporter": "python",
   "pygments_lexer": "ipython3",
   "version": "3.8.8"
  }
 },
 "nbformat": 4,
 "nbformat_minor": 5
}

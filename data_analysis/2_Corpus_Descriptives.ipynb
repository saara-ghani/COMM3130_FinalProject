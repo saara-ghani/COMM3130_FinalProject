{
 "cells": [
  {
   "cell_type": "markdown",
   "id": "d97feeac-fa1c-4ea3-9e6a-ad1cbfc96b1e",
   "metadata": {},
   "source": [
    "# Corpus Descriptives\n",
    "\n",
    "Our first step of analysis is to examine the corpus. Here, we look at:\n",
    "* number of texts in each corpus\n",
    "* number of tokens overall\n",
    "* number of types\n",
    "* type:token ratio"
   ]
  },
  {
   "cell_type": "code",
   "execution_count": null,
   "id": "7f8aed5c-2f84-4f8d-8a2d-3b9b5e47a64b",
   "metadata": {},
   "outputs": [],
   "source": [
    "# load packages\n",
    "import os\n",
    "from collections import Counter\n",
    "\n",
    "# read in the functions\n",
    "%run functions.ipynb\n",
    "%run 1_Set_Up.ipynb"
   ]
  },
  {
   "cell_type": "code",
   "execution_count": null,
   "id": "c320e021-b5ae-4718-b7c9-1195c922c946",
   "metadata": {},
   "outputs": [],
   "source": [
    "# USING THESE LISTS FROM FILE 1 SET UP\n",
    "# seuss_corpus_tokens\n",
    "# comp_corpus_tokens"
   ]
  },
  {
   "cell_type": "markdown",
   "id": "5e1efa76-54c6-4330-936f-f863060c09d8",
   "metadata": {},
   "source": [
    "### Number of tokens overall"
   ]
  },
  {
   "cell_type": "code",
   "execution_count": null,
   "id": "f624f165-2ff8-4880-a578-0898d16e8e3d",
   "metadata": {},
   "outputs": [],
   "source": [
    "# Seuss\n",
    "\n",
    "s_tokens_total = []\n",
    "for story in seuss_corpus_tokens:\n",
    "    total = len(story)\n",
    "    s_tokens_total.append(total)\n",
    "\n",
    "print('The total number of tokens in the Seuss Corpus is', str(sum(s_tokens_total)))\n"
   ]
  },
  {
   "cell_type": "code",
   "execution_count": null,
   "id": "52d31491-3245-4399-900a-19e0cf76523f",
   "metadata": {},
   "outputs": [],
   "source": [
    "# Comparison\n",
    "\n",
    "c_tokens_total = []\n",
    "for story in comp_corpus_tokens:\n",
    "    total = len(story)\n",
    "    c_tokens_total.append(total)\n",
    "\n",
    "print('The total number of tokens in the Comparison Corpus is', str(sum(c_tokens_total)))\n"
   ]
  },
  {
   "cell_type": "markdown",
   "id": "28435beb-2dd8-41ff-8ab7-827fd1aba914",
   "metadata": {},
   "source": [
    "### Number of token types (aka unique tokens)"
   ]
  },
  {
   "cell_type": "code",
   "execution_count": null,
   "id": "a5ae439c-f875-491b-ab01-01186d164e48",
   "metadata": {},
   "outputs": [],
   "source": [
    "# Seuss\n",
    "\n",
    "s_unique_toks_total = set()\n",
    "for story in seuss_corpus_tokens:\n",
    "    unique = set(story)\n",
    "    s_unique_toks_total.update(unique)\n",
    "\n",
    "print('Total unique tokens in Seuss Corpus:', str(len(s_unique_toks_total)))\n"
   ]
  },
  {
   "cell_type": "code",
   "execution_count": null,
   "id": "0a2fb80d-3c7a-44f2-b5ee-aa61ace19482",
   "metadata": {},
   "outputs": [],
   "source": [
    "# Comparison\n",
    "\n",
    "c_unique_toks_total = set()\n",
    "for story in comp_corpus_tokens:\n",
    "    unique = set(story)\n",
    "    c_unique_toks_total.update(unique)\n",
    "\n",
    "print('Total unique tokens in Comparison Corpus:', str(len(c_unique_toks_total)))\n"
   ]
  },
  {
   "cell_type": "markdown",
   "id": "a5cba5cf-e518-4cfe-9f73-3137e8eb2519",
   "metadata": {},
   "source": [
    "### Type-Token Ratio"
   ]
  },
  {
   "cell_type": "code",
   "execution_count": null,
   "id": "f5b9e513-22f4-48a4-adf2-a6c7bea85636",
   "metadata": {},
   "outputs": [],
   "source": [
    "# dividing the number of types by the number of tokens, and then multiplying by 100 to get a percentage\n",
    "\n",
    "# Seuss\n",
    "\n",
    "(len(s_unique_toks_total) / sum(s_tokens_total)) * 100"
   ]
  },
  {
   "cell_type": "code",
   "execution_count": null,
   "id": "df67c49b-a18d-4039-8aa8-4d7f24567765",
   "metadata": {},
   "outputs": [],
   "source": [
    "# Comparison\n",
    "\n",
    "(len(c_unique_toks_total) / sum(c_tokens_total)) * 100"
   ]
  }
 ],
 "metadata": {
  "citation-manager": {
   "items": {}
  },
  "kernelspec": {
   "display_name": "Python 3.8",
   "language": "python",
   "name": "python3"
  },
  "language_info": {
   "codemirror_mode": {
    "name": "ipython",
    "version": 3
   },
   "file_extension": ".py",
   "mimetype": "text/x-python",
   "name": "python",
   "nbconvert_exporter": "python",
   "pygments_lexer": "ipython3",
   "version": "3.8.8"
  }
 },
 "nbformat": 4,
 "nbformat_minor": 5
}

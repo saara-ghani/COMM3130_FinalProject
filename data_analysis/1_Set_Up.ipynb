{
 "cells": [
  {
   "cell_type": "markdown",
   "id": "3fdb63b2-d408-4544-b9fd-145fbd25034a",
   "metadata": {},
   "source": [
    "# Set Up"
   ]
  },
  {
   "cell_type": "markdown",
   "id": "8f69999a-941f-4d24-8ea6-37a258345e03",
   "metadata": {},
   "source": [
    "## Load the desired packages\n",
    "\n",
    "Possible modules to work with:\n",
    "* `ipa_rhyming` - https://github.com/AlinaRechina/ipa_rhyming\n",
    "* `pronouncing` - https://github.com/aparrish/pronouncingpy\n",
    "* `fuzzywuzz` - https://github.com/seatgeek/fuzzywuzzy\n",
    "\n",
    "We will be working with `pronouncing`."
   ]
  },
  {
   "cell_type": "code",
   "execution_count": 1,
   "id": "158c105c-2c9f-454d-9425-901185de20f1",
   "metadata": {},
   "outputs": [],
   "source": [
    "import os\n",
    "from collections import Counter\n",
    "import pronouncing\n",
    "import fuzzywuzzy\n",
    "import ipa_rhyming"
   ]
  },
  {
   "cell_type": "code",
   "execution_count": 2,
   "id": "becb2cfe-338f-4fce-8d68-443b7dd6e56e",
   "metadata": {},
   "outputs": [],
   "source": [
    "# read in the functions\n",
    "%run functions.ipynb"
   ]
  },
  {
   "cell_type": "markdown",
   "id": "7658be9b-3fcc-4483-a7e7-00c663a608b8",
   "metadata": {},
   "source": [
    "## Set up the corpora"
   ]
  },
  {
   "cell_type": "code",
   "execution_count": 3,
   "id": "05624dcd-d2a1-49be-bcb4-75bf8e745751",
   "metadata": {},
   "outputs": [],
   "source": [
    "SEUSS_FOLDER = '../data/seuss_corpus_files'\n",
    "COMPARISON_FOLDER = '../data/comparison_corpus_files'"
   ]
  },
  {
   "cell_type": "code",
   "execution_count": 4,
   "id": "6b89b774-aa58-457c-b094-84f54facc51c",
   "metadata": {},
   "outputs": [
    {
     "name": "stdout",
     "output_type": "stream",
     "text": [
      "There are 25 Seuss files\n",
      "There are 25 comparison corpus files\n"
     ]
    }
   ],
   "source": [
    "# List of Dr. Seuss texts\n",
    "seuss_files = [fname for fname in os.listdir('../data/seuss_corpus_files/') if fname.endswith('txt')]\n",
    "print(f'There are {len(seuss_files)} Seuss files')\n",
    "\n",
    "# List of comparison texts\n",
    "comparison_files = [fname for fname in os.listdir('../data/comparison_corpus_files/') if fname.endswith('txt')]\n",
    "print(f'There are {len(comparison_files)} comparison corpus files')"
   ]
  },
  {
   "cell_type": "markdown",
   "id": "688610be-63fb-4bde-88d6-eca4934ac4b0",
   "metadata": {},
   "source": [
    "## Example Story: Hop on Pop\n",
    "This is to show what our stroies look like, and what kind of anlaysis we can and will do."
   ]
  },
  {
   "cell_type": "code",
   "execution_count": 5,
   "id": "322c1bec-b33a-4185-a2f3-54531e19e793",
   "metadata": {},
   "outputs": [
    {
     "name": "stdout",
     "output_type": "stream",
     "text": [
      "Hop on Pop has 142 types and 389 tokens.\n"
     ]
    }
   ],
   "source": [
    "hop_on_pop = open(f'{SEUSS_FOLDER}/hop-on-pop.txt').read()\n",
    "\n",
    "chars_to_strip = ',.?!'\n",
    "rdict = str.maketrans('','', chars_to_strip)\n",
    "hop_tokens = hop_on_pop.lower().translate(rdict).split()\n",
    "hop_types = sorted(list(set(hop_tokens)))\n",
    "\n",
    "\n",
    "print(f'Hop on Pop has {len(hop_types)} types and {len(hop_tokens)} tokens.')"
   ]
  },
  {
   "cell_type": "code",
   "execution_count": 6,
   "id": "e9ecd442-b078-4911-8467-7ca0a7957b16",
   "metadata": {},
   "outputs": [
    {
     "data": {
      "text/plain": [
       "[\"beach's\", 'impeaches', 'peaches', 'reaches', 'speeches', 'teaches']"
      ]
     },
     "execution_count": 6,
     "metadata": {},
     "output_type": "execute_result"
    }
   ],
   "source": [
    "pronouncing.rhymes(\"beaches\")"
   ]
  },
  {
   "cell_type": "markdown",
   "id": "5e22915c-f812-4f8a-8c10-aedc140703b9",
   "metadata": {},
   "source": [
    "### Create a dictionary of rhymes for hop on pop\n",
    "This will be a dictionary of words, that contains the list of all rhyming words in that specific poem. Later, we will modify the pronouncing package to contain made up words by Dr. Suess"
   ]
  },
  {
   "cell_type": "code",
   "execution_count": 7,
   "id": "37720eaa-fc94-4cd9-82d6-01cb3b768fd4",
   "metadata": {},
   "outputs": [
    {
     "name": "stdout",
     "output_type": "stream",
     "text": [
      "['hop', 'top', 'stop']\n",
      "['hop', 'pop', 'top']\n"
     ]
    }
   ],
   "source": [
    "rhymes_dict = {}\n",
    "for htype in hop_types:\n",
    "    type_rhymes = set(pronouncing.rhymes(htype)) ## type_rhymes = any words that rhymes with htype\n",
    "    hop_rhymes = set(hop_types).intersection(type_rhymes) ## hop_rhymes is words that rhyme with htype within the poem (hop on pop)\n",
    "    rhymes_dict[htype] = list(hop_rhymes)\n",
    "\n",
    "print(rhymes_dict['pop'])\n",
    "print(rhymes_dict['stop'])"
   ]
  },
  {
   "cell_type": "markdown",
   "id": "31f798d4-7620-4d72-8796-b5bf216ec1aa",
   "metadata": {},
   "source": [
    "---\n",
    "# Tokenize All Texts\n",
    "### Dr Seuss Corpus Tokens List: `seuss_corpus_tokens`"
   ]
  },
  {
   "cell_type": "code",
   "execution_count": 8,
   "id": "640c3e0d-2a14-446e-9dda-b522d4e81bac",
   "metadata": {},
   "outputs": [],
   "source": [
    "# read in all seuss files\n",
    "seuss_corpus = []\n",
    "for file in seuss_files:\n",
    "    path = SEUSS_FOLDER+'/'+file\n",
    "    seuss_corpus.append(open(path).read())"
   ]
  },
  {
   "cell_type": "code",
   "execution_count": 9,
   "id": "54fc0f07-f97d-4e39-b4d2-02fb6537a60e",
   "metadata": {},
   "outputs": [],
   "source": [
    "# tokenize each file\n",
    "seuss_corpus_tokens = []\n",
    "chars_to_strip = ',.\\xa0:-()\\';$\"/?][!`Ą@Ś§¨’–“”…ï‘>&\\%˝˘*'\n",
    "\n",
    "for file in seuss_corpus:\n",
    "    seuss_file_tokens = tokenize(file.lower(), stripchars=chars_to_strip)\n",
    "    # seuss_file_types = sorted(list(set(seuss_file_tokens)))\n",
    "    seuss_corpus_tokens.append(seuss_file_tokens)"
   ]
  },
  {
   "cell_type": "markdown",
   "id": "9d6042d8-3d1b-4327-baf9-7c4eeafd0549",
   "metadata": {},
   "source": [
    "### Comparison Story/Poems Corpus Tokens List: `comp_corpus_tokens`"
   ]
  },
  {
   "cell_type": "code",
   "execution_count": 10,
   "id": "bc3a4081-50b3-4b9f-b7f0-40e3c51aef25",
   "metadata": {},
   "outputs": [],
   "source": [
    "# read in all comp files\n",
    "comp_corpus = []\n",
    "for file in comparison_files:\n",
    "    path = COMPARISON_FOLDER+'/'+file\n",
    "    comp_corpus.append(open(path).read())"
   ]
  },
  {
   "cell_type": "code",
   "execution_count": 11,
   "id": "9a4debb3-5b2c-4fe7-9c70-252c4dbdd3e6",
   "metadata": {},
   "outputs": [],
   "source": [
    "# tokenize each file\n",
    "comp_corpus_tokens = []\n",
    "chars_to_strip = ',.\\xa0:-()\\';$\"/?][!`Ą@Ś§¨’–“”…ï‘>&\\%˝˘*'\n",
    "\n",
    "for file in comp_corpus:\n",
    "    comp_file_tokens = tokenize(file.lower(), stripchars=chars_to_strip)\n",
    "    # comp_file_types = sorted(list(set(comp_file_tokens)))\n",
    "    comp_corpus_tokens.append(comp_file_tokens)"
   ]
  },
  {
   "cell_type": "markdown",
   "id": "13800dae-3df0-4396-96e9-42aa8609b905",
   "metadata": {},
   "source": [
    "Now that we have set up the necessary material for our projecct, be can begin our analysis!"
   ]
  }
 ],
 "metadata": {
  "citation-manager": {
   "items": {}
  },
  "kernelspec": {
   "display_name": "Python 3.8",
   "language": "python",
   "name": "python3"
  },
  "language_info": {
   "codemirror_mode": {
    "name": "ipython",
    "version": 3
   },
   "file_extension": ".py",
   "mimetype": "text/x-python",
   "name": "python",
   "nbconvert_exporter": "python",
   "pygments_lexer": "ipython3",
   "version": "3.8.8"
  }
 },
 "nbformat": 4,
 "nbformat_minor": 5
}
